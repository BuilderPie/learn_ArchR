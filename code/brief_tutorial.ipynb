{
 "cells": [
  {
   "cell_type": "markdown",
   "id": "b5085362",
   "metadata": {},
   "source": [
    "### this script follow the tutorial at https://www.archrproject.com/articles/Articles/tutorial.html"
   ]
  },
  {
   "cell_type": "code",
   "execution_count": 1,
   "id": "92669ca1",
   "metadata": {},
   "outputs": [
    {
     "name": "stderr",
     "output_type": "stream",
     "text": [
      "\n",
      "                                                   / |\n",
      "                                                 /    \\\n",
      "            .                                  /      |.\n",
      "            \\\\\\                              /        |.\n",
      "              \\\\\\                          /           `|.\n",
      "                \\\\\\                      /              |.\n",
      "                  \\                    /                |\\\n",
      "                  \\\\#####\\           /                  ||\n",
      "                ==###########>      /                   ||\n",
      "                 \\\\##==......\\    /                     ||\n",
      "            ______ =       =|__ /__                     ||      \\\\\\\n",
      "        ,--' ,----`-,__ ___/'  --,-`-===================##========>\n",
      "       \\               '        ##_______ _____ ,--,__,=##,__   ///\n",
      "        ,    __==    ___,-,__,--'#'  ==='      `-'    | ##,-/\n",
      "        -,____,---'       \\\\####\\\\________________,--\\\\_##,/\n",
      "           ___      .______        ______  __    __  .______      \n",
      "          /   \\     |   _  \\      /      ||  |  |  | |   _  \\     \n",
      "         /  ^  \\    |  |_)  |    |  ,----'|  |__|  | |  |_)  |    \n",
      "        /  /_\\  \\   |      /     |  |     |   __   | |      /     \n",
      "       /  _____  \\  |  |\\  \\\\___ |  `----.|  |  |  | |  |\\  \\\\___.\n",
      "      /__/     \\__\\ | _| `._____| \\______||__|  |__| | _| `._____|\n",
      "    \n",
      "\n",
      "ArchR : Version 1.0.2\n",
      "For more information see our website : www.ArchRProject.com\n",
      "If you encounter a bug please report : https://github.com/GreenleafLab/ArchR/issues\n",
      "\n",
      "Loading Required Packages...\n",
      "\n",
      "\tLoading Package : grid v4.1.0\n",
      "\n",
      "\tLoading Package : gridExtra v2.3\n",
      "\n",
      "\tLoading Package : gtools v3.9.2\n",
      "\n",
      "\tLoading Package : gtable v0.3.4\n",
      "\n",
      "\tLoading Package : ggplot2 v3.4.3\n",
      "\n",
      "\tLoading Package : magrittr v2.0.3\n",
      "\n",
      "\tLoading Package : plyr v1.8.8\n",
      "\n",
      "\tLoading Package : stringr v1.5.0\n",
      "\n",
      "\tLoading Package : data.table v1.14.8\n",
      "\n",
      "\tLoading Package : matrixStats v0.59.0\n",
      "\n",
      "\tLoading Package : S4Vectors v0.36.2\n",
      "\n",
      "\tLoading Package : GenomicRanges v1.50.2\n",
      "\n",
      "\tLoading Package : BiocGenerics v0.44.0\n",
      "\n",
      "\tLoading Package : Matrix v1.3.4\n",
      "\n",
      "\tLoading Package : Rcpp v1.0.11\n",
      "\n",
      "\tLoading Package : SummarizedExperiment v1.28.0\n",
      "\n",
      "Warning message:\n",
      "“multiple methods tables found for ‘aperm’”\n",
      "Warning message:\n",
      "“replacing previous import ‘BiocGenerics::aperm’ by ‘DelayedArray::aperm’ when loading ‘SummarizedExperiment’”\n",
      "\tLoading Package : rhdf5 v2.42.1\n",
      "\n"
     ]
    }
   ],
   "source": [
    "library(ArchR)\n",
    "set.seed(1)"
   ]
  },
  {
   "cell_type": "code",
   "execution_count": 2,
   "id": "6e06dad3",
   "metadata": {},
   "outputs": [
    {
     "name": "stderr",
     "output_type": "stream",
     "text": [
      "Setting default number of Parallel threads to 16.\n",
      "\n"
     ]
    }
   ],
   "source": [
    "addArchRThreads(threads = 16) "
   ]
  },
  {
   "cell_type": "markdown",
   "id": "97246dd5",
   "metadata": {},
   "source": [
    "### download data"
   ]
  },
  {
   "cell_type": "code",
   "execution_count": 4,
   "id": "91ee9ca1",
   "metadata": {},
   "outputs": [],
   "source": [
    "setwd(\"../data/\")"
   ]
  },
  {
   "cell_type": "code",
   "execution_count": 5,
   "id": "95d36390",
   "metadata": {},
   "outputs": [
    {
     "name": "stderr",
     "output_type": "stream",
     "text": [
      "Downloading files to HemeFragments...\n",
      "\n"
     ]
    }
   ],
   "source": [
    "inputFiles <- getTutorialData(\"Hematopoiesis\")"
   ]
  },
  {
   "cell_type": "code",
   "execution_count": 6,
   "id": "6c521019",
   "metadata": {},
   "outputs": [
    {
     "data": {
      "text/html": [
       "<style>\n",
       ".dl-inline {width: auto; margin:0; padding: 0}\n",
       ".dl-inline>dt, .dl-inline>dd {float: none; width: auto; display: inline-block}\n",
       ".dl-inline>dt::after {content: \":\\0020\"; padding-right: .5ex}\n",
       ".dl-inline>dt:not(:first-of-type) {padding-left: .5ex}\n",
       "</style><dl class=dl-inline><dt>scATAC_BMMC_R1</dt><dd>'HemeFragments/scATAC_BMMC_R1.fragments.tsv.gz'</dd><dt>scATAC_CD34_BMMC_R1</dt><dd>'HemeFragments/scATAC_CD34_BMMC_R1.fragments.tsv.gz'</dd><dt>scATAC_PBMC_R1</dt><dd>'HemeFragments/scATAC_PBMC_R1.fragments.tsv.gz'</dd></dl>\n"
      ],
      "text/latex": [
       "\\begin{description*}\n",
       "\\item[scATAC\\textbackslash{}\\_BMMC\\textbackslash{}\\_R1] 'HemeFragments/scATAC\\_BMMC\\_R1.fragments.tsv.gz'\n",
       "\\item[scATAC\\textbackslash{}\\_CD34\\textbackslash{}\\_BMMC\\textbackslash{}\\_R1] 'HemeFragments/scATAC\\_CD34\\_BMMC\\_R1.fragments.tsv.gz'\n",
       "\\item[scATAC\\textbackslash{}\\_PBMC\\textbackslash{}\\_R1] 'HemeFragments/scATAC\\_PBMC\\_R1.fragments.tsv.gz'\n",
       "\\end{description*}\n"
      ],
      "text/markdown": [
       "scATAC_BMMC_R1\n",
       ":   'HemeFragments/scATAC_BMMC_R1.fragments.tsv.gz'scATAC_CD34_BMMC_R1\n",
       ":   'HemeFragments/scATAC_CD34_BMMC_R1.fragments.tsv.gz'scATAC_PBMC_R1\n",
       ":   'HemeFragments/scATAC_PBMC_R1.fragments.tsv.gz'\n",
       "\n"
      ],
      "text/plain": [
       "                                      scATAC_BMMC_R1 \n",
       "     \"HemeFragments/scATAC_BMMC_R1.fragments.tsv.gz\" \n",
       "                                 scATAC_CD34_BMMC_R1 \n",
       "\"HemeFragments/scATAC_CD34_BMMC_R1.fragments.tsv.gz\" \n",
       "                                      scATAC_PBMC_R1 \n",
       "     \"HemeFragments/scATAC_PBMC_R1.fragments.tsv.gz\" "
      ]
     },
     "metadata": {},
     "output_type": "display_data"
    }
   ],
   "source": [
    "inputFiles"
   ]
  },
  {
   "cell_type": "code",
   "execution_count": 7,
   "id": "a8fa74d2",
   "metadata": {},
   "outputs": [],
   "source": [
    "setwd(\"../code/\")"
   ]
  },
  {
   "cell_type": "code",
   "execution_count": null,
   "id": "2934648d",
   "metadata": {},
   "outputs": [],
   "source": []
  },
  {
   "cell_type": "code",
   "execution_count": null,
   "id": "28f4d23c",
   "metadata": {},
   "outputs": [],
   "source": []
  },
  {
   "cell_type": "code",
   "execution_count": null,
   "id": "eb7b4a59",
   "metadata": {},
   "outputs": [],
   "source": []
  },
  {
   "cell_type": "code",
   "execution_count": null,
   "id": "ab831fd0",
   "metadata": {},
   "outputs": [],
   "source": []
  },
  {
   "cell_type": "code",
   "execution_count": null,
   "id": "0d664eec",
   "metadata": {},
   "outputs": [],
   "source": []
  },
  {
   "cell_type": "code",
   "execution_count": null,
   "id": "8e311e21",
   "metadata": {},
   "outputs": [],
   "source": []
  },
  {
   "cell_type": "code",
   "execution_count": null,
   "id": "6f67416e",
   "metadata": {},
   "outputs": [],
   "source": []
  },
  {
   "cell_type": "code",
   "execution_count": null,
   "id": "5ed5bc42",
   "metadata": {},
   "outputs": [],
   "source": []
  },
  {
   "cell_type": "code",
   "execution_count": null,
   "id": "929d529d",
   "metadata": {},
   "outputs": [],
   "source": []
  },
  {
   "cell_type": "code",
   "execution_count": null,
   "id": "e335b121",
   "metadata": {},
   "outputs": [],
   "source": []
  },
  {
   "cell_type": "code",
   "execution_count": null,
   "id": "c208b6f8",
   "metadata": {},
   "outputs": [],
   "source": []
  },
  {
   "cell_type": "code",
   "execution_count": null,
   "id": "d806df83",
   "metadata": {},
   "outputs": [],
   "source": []
  },
  {
   "cell_type": "code",
   "execution_count": null,
   "id": "1f505f4b",
   "metadata": {},
   "outputs": [],
   "source": []
  },
  {
   "cell_type": "code",
   "execution_count": null,
   "id": "6a85884e",
   "metadata": {},
   "outputs": [],
   "source": []
  },
  {
   "cell_type": "code",
   "execution_count": null,
   "id": "cbf31c53",
   "metadata": {},
   "outputs": [],
   "source": []
  },
  {
   "cell_type": "code",
   "execution_count": null,
   "id": "8770c952",
   "metadata": {},
   "outputs": [],
   "source": []
  },
  {
   "cell_type": "code",
   "execution_count": null,
   "id": "c972b006",
   "metadata": {},
   "outputs": [],
   "source": []
  },
  {
   "cell_type": "code",
   "execution_count": null,
   "id": "d726a892",
   "metadata": {},
   "outputs": [],
   "source": []
  },
  {
   "cell_type": "code",
   "execution_count": null,
   "id": "fb1e9ef9",
   "metadata": {},
   "outputs": [],
   "source": []
  },
  {
   "cell_type": "code",
   "execution_count": null,
   "id": "5d7998fd",
   "metadata": {},
   "outputs": [],
   "source": []
  },
  {
   "cell_type": "code",
   "execution_count": null,
   "id": "8115cb5d",
   "metadata": {},
   "outputs": [],
   "source": []
  },
  {
   "cell_type": "code",
   "execution_count": null,
   "id": "d05e66ba",
   "metadata": {},
   "outputs": [],
   "source": []
  },
  {
   "cell_type": "code",
   "execution_count": null,
   "id": "d054c96d",
   "metadata": {},
   "outputs": [],
   "source": []
  },
  {
   "cell_type": "code",
   "execution_count": null,
   "id": "48554e00",
   "metadata": {},
   "outputs": [],
   "source": []
  }
 ],
 "metadata": {
  "kernelspec": {
   "display_name": "R",
   "language": "R",
   "name": "ir"
  },
  "language_info": {
   "codemirror_mode": "r",
   "file_extension": ".r",
   "mimetype": "text/x-r-source",
   "name": "R",
   "pygments_lexer": "r",
   "version": "4.2.2"
  }
 },
 "nbformat": 4,
 "nbformat_minor": 5
}
